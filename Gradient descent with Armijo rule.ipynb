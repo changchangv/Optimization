{
 "cells": [
  {
   "cell_type": "markdown",
   "metadata": {},
   "source": [
    "### Steepest Gradient Descent Method with Armijo Rule to get the minimizer of Rosenbrock function\n",
    "Tried different chioce of rho(step length parameter)"
   ]
  },
  {
   "cell_type": "code",
   "execution_count": null,
   "metadata": {},
   "outputs": [],
   "source": [
    "import numpy as np\n",
    "from numpy import linalg as LA\n",
    "import pandas as pd"
   ]
  },
  {
   "cell_type": "code",
   "execution_count": null,
   "metadata": {},
   "outputs": [],
   "source": [
    "def rosen(x):\n",
    "    return 100 * (x[1] - x[0]**2)**2 + (1 - x[0])**2 "
   ]
  },
  {
   "cell_type": "code",
   "execution_count": null,
   "metadata": {},
   "outputs": [],
   "source": [
    "def rosen_grad(x):\n",
    "    return np.array([-400*x[0]*(x[1]-x[0]**2) - 2*(1-x[0]),  200*(x[1]-x[0]**2)])"
   ]
  },
  {
   "cell_type": "code",
   "execution_count": null,
   "metadata": {},
   "outputs": [],
   "source": [
    "#using armijo rule to choose step length, return next x\n",
    "def Armijo_DescStepLen(x,rho,c,alpha):\n",
    "    # how to fix overflow here????  int32超出了该怎么定义数据类型？\n",
    "    while rosen(x - alpha*rosen_grad(x)) > rosen(x) - c*alpha* np.dot(rosen_grad(x), rosen_grad(x).T):\n",
    "        alpha = rho * alpha\n",
    "        \n",
    "    return x-alpha*rosen_grad(x)"
   ]
  },
  {
   "cell_type": "code",
   "execution_count": null,
   "metadata": {
    "scrolled": true
   },
   "outputs": [],
   "source": [
    "c=0.1\n",
    "alpha = 1\n",
    "print('%-5s' %'rho', '%-18s' %'RosenVal' , '%-6s' %'count', 'minimizer x')\n",
    "for rho in [0.99, 0.9, 0.7, 0.5, 0.3, 0.1, 0.01]:\n",
    "    x= np.array([1.2,1.2])\n",
    "    count = 0\n",
    "    while LA.norm(rosen_grad(x))>1e-4 and LA.norm(rosen(x))>1e-9:\n",
    "        x = Armijo_DescStepLen(x, rho,c,alpha)\n",
    "        count+=1\n",
    "    print('%-5s' %rho, '%-18.4e' %rosen(x), '%-6s' %count, x)"
   ]
  },
  {
   "cell_type": "markdown",
   "metadata": {},
   "source": [
    "OUTPUT c=0.5:\n",
    "0.999 8.9867e-09         1044   [1.00009472 1.00018983]\n",
    "0.99  1.1620e-08         152    [1.0001077  1.00021587]\n",
    "0.7   1.1871e-08         3995   [1.00010885 1.00021819]\n",
    "0.5   1.2088e-08         628    [1.00010986 1.00022016]\n",
    "0.3   1.1481e-08         5726   [1.00010708 1.00021455]\n",
    "0.1   5.0030e-09         676    [1.00007067 1.00014164]\n",
    "0.01  1.1265e-08         32029  [1.00010608 1.00021252]\n",
    "0.001 4.8182e-09         12310  [1.00006936 1.000139  ]"
   ]
  },
  {
   "cell_type": "markdown",
   "metadata": {},
   "source": [
    "OUTPUT c=0.1:\n",
    "rho   RosenVal           count  minimizer x\n",
    "0.99  1.3266e-09         10482  [1.00003642 1.00007277]\n",
    "0.7   5.1838e-09         9399   [1.00007185 1.00014417]\n",
    "0.5   6.7724e-09         5907   [1.00008227 1.00016474]\n",
    "0.3   1.0093e-08         6882   [1.00010042 1.00020115]\n",
    "0.1   8.6688e-09         196    [1.00009304 1.00018644]\n",
    "0.01  1.0530e-08         32180  [1.00010249 1.00020549]"
   ]
  },
  {
   "cell_type": "markdown",
   "metadata": {},
   "source": [
    "OUTPUT c=1e-4:\n",
    "rho   RosenVal           count  minimizer x\n",
    "0.99  9.9736e-10         9249   [0.99996925 0.99993923]\n",
    "0.7   3.4319e-09         9602   [1.00005858 1.00011721]\n",
    "0.5   6.0251e-09         7349   [1.00007748 1.00015543]\n",
    "0.3   8.9927e-09         7970   [1.00009479 1.00018986]\n",
    "0.1   6.3929e-09         198    [1.00007989 1.00016011]\n",
    "0.01  1.0229e-08         32245  [1.00010109 1.0002025 ]"
   ]
  },
  {
   "cell_type": "markdown",
   "metadata": {},
   "source": [
    "When rho goes close to zero, the step length will be too small so that we need more\n",
    "steps to converge. rho = 0.1 is the best parameter here."
   ]
  }
 ],
 "metadata": {
  "kernelspec": {
   "display_name": "Python 3",
   "language": "python",
   "name": "python3"
  },
  "language_info": {
   "codemirror_mode": {
    "name": "ipython",
    "version": 3
   },
   "file_extension": ".py",
   "mimetype": "text/x-python",
   "name": "python",
   "nbconvert_exporter": "python",
   "pygments_lexer": "ipython3",
   "version": "3.7.4"
  }
 },
 "nbformat": 4,
 "nbformat_minor": 2
}
